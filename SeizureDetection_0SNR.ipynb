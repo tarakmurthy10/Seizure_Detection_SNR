{
  "nbformat": 4,
  "nbformat_minor": 0,
  "metadata": {
    "kernelspec": {
      "display_name": "Python 3",
      "language": "python",
      "name": "python3"
    },
    "language_info": {
      "codemirror_mode": {
        "name": "ipython",
        "version": 3
      },
      "file_extension": ".py",
      "mimetype": "text/x-python",
      "name": "python",
      "nbconvert_exporter": "python",
      "pygments_lexer": "ipython3",
      "version": "3.6.1"
    },
    "colab": {
      "name": "SeizureDetection_0SNR.ipynb",
      "provenance": [],
      "collapsed_sections": [],
      "include_colab_link": true
    }
  },
  "cells": [
    {
      "cell_type": "markdown",
      "metadata": {
        "id": "view-in-github",
        "colab_type": "text"
      },
      "source": [
        "<a href=\"https://colab.research.google.com/github/tarakmurthy10/Seizure_Detection_SNR/blob/master/SeizureDetection_0SNR.ipynb\" target=\"_parent\"><img src=\"https://colab.research.google.com/assets/colab-badge.svg\" alt=\"Open In Colab\"/></a>"
      ]
    },
    {
      "cell_type": "markdown",
      "metadata": {
        "id": "YvNjgl6RkazE",
        "colab_type": "text"
      },
      "source": [
        "# **Import Libraries and Modules**"
      ]
    },
    {
      "cell_type": "code",
      "metadata": {
        "id": "nYoV0uixS-0o",
        "colab_type": "code",
        "outputId": "1f990bc2-2fd9-4672-daa4-421131a950e5",
        "colab": {}
      },
      "source": [
        "# Import libraries and modules\n",
        "import numpy as np\n",
        "np.random.seed(123)  # for reproducibility\n",
        "import pandas as pd\n",
        "import seaborn as sns\n",
        "import matplotlib.pyplot as plt\n",
        "\n",
        "import keras\n",
        "from keras.models import Sequential\n",
        "from keras.layers import Dense\n",
        "from keras.layers import LSTM\n",
        "from keras.layers import Dropout\n",
        "from keras.layers import Flatten, TimeDistributed, GlobalMaxPooling1D, GlobalAveragePooling1D\n",
        "from keras.preprocessing import sequence\n",
        "from keras.utils import np_utils\n",
        "from keras import metrics\n",
        "from keras import backend\n",
        "\n",
        "%matplotlib inline"
      ],
      "execution_count": 0,
      "outputs": [
        {
          "output_type": "stream",
          "text": [
            "Using TensorFlow backend.\n"
          ],
          "name": "stderr"
        }
      ]
    },
    {
      "cell_type": "markdown",
      "metadata": {
        "id": "3Iv6tBEKkhlu",
        "colab_type": "text"
      },
      "source": [
        "# **Define the performance metrics of rmse, sensitivity, recall, specificity, and precision**"
      ]
    },
    {
      "cell_type": "code",
      "metadata": {
        "id": "wiyF7_HJS-0z",
        "colab_type": "code",
        "colab": {}
      },
      "source": [
        "# Define the performance metrics of rmse, sensitivity, recall, specificity, and precision\n",
        "\n",
        "def rmse(y_true, y_pred):\n",
        "    return backend.sqrt(backend.mean(backend.square(y_pred - y_true), axis = -1))\n",
        "\n",
        "def sensitivity(y_true, y_pred):  \n",
        "     y_pred_pos = backend.round(backend.clip(y_pred, 0, 1))\n",
        "     y_pred_neg = 1 - y_pred_pos\n",
        "     y_pos = backend.round(backend.clip(y_true, 0, 1))\n",
        "     y_neg = 1 - y_pos\n",
        "     tp = backend.sum(y_pos * y_pred_pos)\n",
        "     tn = backend.sum(y_neg * y_pred_neg)\n",
        "     fp = backend.sum(y_neg * y_pred_pos)\n",
        "     fn = backend.sum(y_pos * y_pred_neg)\n",
        "     sensitivity = tp / (tp + fn)\n",
        "     return sensitivity\n",
        "\n",
        "# Recall is the same as the sensitivity\n",
        "def recall(y_true, y_pred):  \n",
        "     y_pred_pos = backend.round(backend.clip(y_pred, 0, 1))\n",
        "     y_pred_neg = 1 - y_pred_pos\n",
        "     y_pos = backend.round(backend.clip(y_true, 0, 1))\n",
        "     y_neg = 1 - y_pos\n",
        "     tp = backend.sum(y_pos * y_pred_pos)\n",
        "     tn = backend.sum(y_neg * y_pred_neg)\n",
        "     fp = backend.sum(y_neg * y_pred_pos)\n",
        "     fn = backend.sum(y_pos * y_pred_neg)\n",
        "     recall = tp / (tp + fn)\n",
        "     return recall\n",
        "\n",
        "def specificity(y_true, y_pred):  \n",
        "     y_pred_pos = backend.round(backend.clip(y_pred, 0, 1))\n",
        "     y_pred_neg = 1 - y_pred_pos\n",
        "     y_pos = backend.round(backend.clip(y_true, 0, 1))\n",
        "     y_neg = 1 - y_pos\n",
        "     tp = backend.sum(y_pos * y_pred_pos)\n",
        "     tn = backend.sum(y_neg * y_pred_neg)\n",
        "     fp = backend.sum(y_neg * y_pred_pos)\n",
        "     fn = backend.sum(y_pos * y_pred_neg)\n",
        "     specificity = tn / (tn + fp)\n",
        "     return specificity\n",
        "\n",
        "\n",
        "def precision(y_true, y_pred):  \n",
        "     y_pred_pos = backend.round(backend.clip(y_pred, 0, 1))\n",
        "     y_pred_neg = 1 - y_pred_pos\n",
        "     y_pos = backend.round(backend.clip(y_true, 0, 1))\n",
        "     y_neg = 1 - y_pos\n",
        "     tp = backend.sum(y_pos * y_pred_pos)\n",
        "     tn = backend.sum(y_neg * y_pred_neg)\n",
        "     fp = backend.sum(y_neg * y_pred_pos)\n",
        "     fn = backend.sum(y_pos * y_pred_neg)\n",
        "     precision = tp / (tp + fp)\n",
        "     return precision"
      ],
      "execution_count": 0,
      "outputs": []
    },
    {
      "cell_type": "markdown",
      "metadata": {
        "id": "D0G84lFqknBU",
        "colab_type": "text"
      },
      "source": [
        "# **Import data**"
      ]
    },
    {
      "cell_type": "code",
      "metadata": {
        "id": "p_zC-ctfS-04",
        "colab_type": "code",
        "colab": {}
      },
      "source": [
        "data=pd.read_csv('gdrive/My Drive/data1.csv')"
      ],
      "execution_count": 0,
      "outputs": []
    },
    {
      "cell_type": "markdown",
      "metadata": {
        "id": "DHWyxHa1kyCM",
        "colab_type": "text"
      },
      "source": [
        "# **Counts of each class type**"
      ]
    },
    {
      "cell_type": "code",
      "metadata": {
        "id": "q9lqZWeOS-08",
        "colab_type": "code",
        "outputId": "0eebc7a0-0076-4b56-f3c7-4fbe58ac87b4",
        "colab": {}
      },
      "source": [
        "data[\"f4097\"].value_counts()"
      ],
      "execution_count": 0,
      "outputs": [
        {
          "output_type": "execute_result",
          "data": {
            "text/plain": [
              "1    1000\n",
              "2    1000\n",
              "0    1000\n",
              "Name: f4097, dtype: int64"
            ]
          },
          "metadata": {
            "tags": []
          },
          "execution_count": 4
        }
      ]
    },
    {
      "cell_type": "code",
      "metadata": {
        "id": "f4_AvBZNS-1B",
        "colab_type": "code",
        "colab": {}
      },
      "source": [
        "# shuffle the data\n",
        "data=data.iloc[np.random.permutation(len(data))]"
      ],
      "execution_count": 0,
      "outputs": []
    },
    {
      "cell_type": "code",
      "metadata": {
        "id": "4Q_Z1zMmS-1F",
        "colab_type": "code",
        "colab": {}
      },
      "source": [
        "# reset the data index\n",
        "data=data.reset_index(drop=True)"
      ],
      "execution_count": 0,
      "outputs": []
    },
    {
      "cell_type": "markdown",
      "metadata": {
        "id": "nsxZBEfdk42F",
        "colab_type": "text"
      },
      "source": [
        "# **Time steps of LSTM**"
      ]
    },
    {
      "cell_type": "code",
      "metadata": {
        "id": "lx8XiwmIS-1S",
        "colab_type": "code",
        "outputId": "b5a9d72c-eaaa-4741-a017-0b09f10fe3cd",
        "colab": {}
      },
      "source": [
        "# Time Steps of LSTM\n",
        "data_length = 4096\n",
        "timesteps = 2048\n",
        "data_dim = data_length//timesteps\n",
        "data_dim"
      ],
      "execution_count": 0,
      "outputs": [
        {
          "output_type": "execute_result",
          "data": {
            "text/plain": [
              "2"
            ]
          },
          "metadata": {
            "tags": []
          },
          "execution_count": 7
        }
      ]
    },
    {
      "cell_type": "markdown",
      "metadata": {
        "id": "7twAD0e4k9dq",
        "colab_type": "text"
      },
      "source": [
        "# **Training data, Test data and MApping data into arrays**"
      ]
    },
    {
      "cell_type": "code",
      "metadata": {
        "id": "DyuiYXU-S-1X",
        "colab_type": "code",
        "colab": {}
      },
      "source": [
        "# training data\n",
        "X_train=data.loc[0:2399,data.columns != 'f4097']\n",
        "X_train=X_train.values.reshape([X_train.shape[0], timesteps, data_dim])\n",
        "\n",
        "temp=data['f4097']\n",
        "y_train=temp[0:2400]\n",
        "# map data into arrays\n",
        "y_train=np_utils.to_categorical(y_train, num_classes=3)\n",
        "\n",
        "# test data\n",
        "X_test=data.loc[2400:2999,data.columns != 'f4097']\n",
        "\n",
        "X_test = X_test.values.reshape([X_test.shape[0], timesteps, data_dim])\n",
        "\n",
        "y_test=temp[2400:3000]\n",
        "# map data into arrays\n",
        "y_test=np_utils.to_categorical(y_test, num_classes=3)\n",
        "\n"
      ],
      "execution_count": 0,
      "outputs": []
    },
    {
      "cell_type": "code",
      "metadata": {
        "id": "v9ZFvVHWS-1b",
        "colab_type": "code",
        "outputId": "7cacd5de-8d35-4a18-ccc0-30f62d9bff65",
        "colab": {}
      },
      "source": [
        "X_test.shape"
      ],
      "execution_count": 0,
      "outputs": [
        {
          "output_type": "execute_result",
          "data": {
            "text/plain": [
              "(600, 2048, 2)"
            ]
          },
          "metadata": {
            "tags": []
          },
          "execution_count": 9
        }
      ]
    },
    {
      "cell_type": "markdown",
      "metadata": {
        "id": "scX7ZBR3lMW6",
        "colab_type": "text"
      },
      "source": [
        "# **Create the Model using LSTM layer, TimeDistributed and GlobalAveragePooling**"
      ]
    },
    {
      "cell_type": "code",
      "metadata": {
        "id": "UMXH3NXiS-1f",
        "colab_type": "code",
        "outputId": "bce9fdf1-96f5-4042-b05e-694261c10476",
        "colab": {}
      },
      "source": [
        "# create the model\n",
        "model = Sequential()\n",
        "\n",
        "model.add(LSTM(100, input_shape= (timesteps, data_dim), return_sequences = True))\n",
        "# model.add(Dropout(0.1))\n",
        "model.add(TimeDistributed(Dense(50)))\n",
        "# model.add(GlobalMaxPooling1D())\n",
        "model.add(GlobalAveragePooling1D())\n",
        "# model.add(Flatten())\n",
        "model.add(Dense(3, activation='softmax'))\n",
        "model.compile(loss='categorical_crossentropy', optimizer='adam', metrics=[sensitivity, specificity, 'accuracy'])\n",
        "print(model.summary())\n",
        "history = model.fit(X_train, y_train, validation_data=(X_test, y_test), batch_size=64, epochs=40)"
      ],
      "execution_count": 0,
      "outputs": [
        {
          "output_type": "stream",
          "text": [
            "_________________________________________________________________\n",
            "Layer (type)                 Output Shape              Param #   \n",
            "=================================================================\n",
            "lstm_1 (LSTM)                (None, 2048, 100)         41200     \n",
            "_________________________________________________________________\n",
            "time_distributed_1 (TimeDist (None, 2048, 50)          5050      \n",
            "_________________________________________________________________\n",
            "global_average_pooling1d_1 ( (None, 50)                0         \n",
            "_________________________________________________________________\n",
            "dense_2 (Dense)              (None, 3)                 153       \n",
            "=================================================================\n",
            "Total params: 46,403\n",
            "Trainable params: 46,403\n",
            "Non-trainable params: 0\n",
            "_________________________________________________________________\n",
            "None\n",
            "Train on 2400 samples, validate on 600 samples\n",
            "Epoch 1/40\n",
            "2400/2400 [==============================] - 544s - loss: 0.7948 - sensitivity: 0.3113 - specificity: 0.9575 - acc: 0.6287 - val_loss: 0.5211 - val_sensitivity: 0.6783 - val_specificity: 0.9517 - val_acc: 0.8000\n",
            "Epoch 2/40\n",
            "2400/2400 [==============================] - 546s - loss: 0.4654 - sensitivity: 0.7675 - specificity: 0.9179 - acc: 0.8033 - val_loss: 0.4117 - val_sensitivity: 0.8417 - val_specificity: 0.9283 - val_acc: 0.8467\n",
            "Epoch 3/40\n",
            "2400/2400 [==============================] - 546s - loss: 0.3862 - sensitivity: 0.8400 - specificity: 0.9262 - acc: 0.8483 - val_loss: 0.3682 - val_sensitivity: 0.8550 - val_specificity: 0.9275 - val_acc: 0.8550\n",
            "Epoch 4/40\n",
            "2400/2400 [==============================] - 551s - loss: 0.3214 - sensitivity: 0.8675 - specificity: 0.9360 - acc: 0.8708 - val_loss: 0.2994 - val_sensitivity: 0.8833 - val_specificity: 0.9425 - val_acc: 0.8850\n",
            "Epoch 5/40\n",
            "2400/2400 [==============================] - 548s - loss: 0.2288 - sensitivity: 0.9188 - specificity: 0.9602 - acc: 0.9192 - val_loss: 0.1778 - val_sensitivity: 0.9267 - val_specificity: 0.9633 - val_acc: 0.9267\n",
            "Epoch 6/40\n",
            "2400/2400 [==============================] - 549s - loss: 0.1648 - sensitivity: 0.9375 - specificity: 0.9690 - acc: 0.9375 - val_loss: 0.1201 - val_sensitivity: 0.9633 - val_specificity: 0.9817 - val_acc: 0.9633\n",
            "Epoch 7/40\n",
            "2400/2400 [==============================] - 554s - loss: 0.1952 - sensitivity: 0.9200 - specificity: 0.9600 - acc: 0.9200 - val_loss: 0.1585 - val_sensitivity: 0.9283 - val_specificity: 0.9642 - val_acc: 0.9283\n",
            "Epoch 8/40\n",
            "2400/2400 [==============================] - 548s - loss: 0.1443 - sensitivity: 0.9392 - specificity: 0.9696 - acc: 0.9392 - val_loss: 0.1366 - val_sensitivity: 0.9533 - val_specificity: 0.9775 - val_acc: 0.9550\n",
            "Epoch 9/40\n",
            "2400/2400 [==============================] - 552s - loss: 0.1403 - sensitivity: 0.9467 - specificity: 0.9735 - acc: 0.9471 - val_loss: 0.1139 - val_sensitivity: 0.9667 - val_specificity: 0.9833 - val_acc: 0.9667\n",
            "Epoch 10/40\n",
            "2400/2400 [==============================] - 553s - loss: 0.1107 - sensitivity: 0.9579 - specificity: 0.9790 - acc: 0.9579 - val_loss: 0.0897 - val_sensitivity: 0.9667 - val_specificity: 0.9833 - val_acc: 0.9667\n",
            "Epoch 11/40\n",
            "2400/2400 [==============================] - 548s - loss: 0.0971 - sensitivity: 0.9654 - specificity: 0.9827 - acc: 0.9654 - val_loss: 0.1342 - val_sensitivity: 0.9367 - val_specificity: 0.9683 - val_acc: 0.9367\n",
            "Epoch 12/40\n",
            "2400/2400 [==============================] - 551s - loss: 0.1086 - sensitivity: 0.9671 - specificity: 0.9835 - acc: 0.9671 - val_loss: 0.1465 - val_sensitivity: 0.9550 - val_specificity: 0.9775 - val_acc: 0.9550\n",
            "Epoch 13/40\n",
            "2400/2400 [==============================] - 546s - loss: 0.1060 - sensitivity: 0.9675 - specificity: 0.9838 - acc: 0.9675 - val_loss: 0.0954 - val_sensitivity: 0.9617 - val_specificity: 0.9808 - val_acc: 0.9617\n",
            "Epoch 14/40\n",
            "2400/2400 [==============================] - 546s - loss: 0.1074 - sensitivity: 0.9600 - specificity: 0.9800 - acc: 0.9600 - val_loss: 0.1173 - val_sensitivity: 0.9517 - val_specificity: 0.9758 - val_acc: 0.9517\n",
            "Epoch 15/40\n",
            "2400/2400 [==============================] - 550s - loss: 0.0912 - sensitivity: 0.9646 - specificity: 0.9823 - acc: 0.9646 - val_loss: 0.1098 - val_sensitivity: 0.9583 - val_specificity: 0.9792 - val_acc: 0.9583\n",
            "Epoch 16/40\n",
            "2400/2400 [==============================] - 555s - loss: 0.1172 - sensitivity: 0.9546 - specificity: 0.9773 - acc: 0.9546 - val_loss: 0.0902 - val_sensitivity: 0.9650 - val_specificity: 0.9825 - val_acc: 0.9650\n",
            "Epoch 17/40\n",
            "2400/2400 [==============================] - 553s - loss: 0.0750 - sensitivity: 0.9758 - specificity: 0.9879 - acc: 0.9758 - val_loss: 0.0794 - val_sensitivity: 0.9650 - val_specificity: 0.9825 - val_acc: 0.9650\n",
            "Epoch 18/40\n",
            "2400/2400 [==============================] - 554s - loss: 0.0646 - sensitivity: 0.9758 - specificity: 0.9879 - acc: 0.9758 - val_loss: 0.1863 - val_sensitivity: 0.9483 - val_specificity: 0.9742 - val_acc: 0.9483\n",
            "Epoch 19/40\n",
            "2400/2400 [==============================] - 548s - loss: 0.1443 - sensitivity: 0.9571 - specificity: 0.9785 - acc: 0.9571 - val_loss: 0.0864 - val_sensitivity: 0.9617 - val_specificity: 0.9808 - val_acc: 0.9617\n",
            "Epoch 20/40\n",
            "2400/2400 [==============================] - 544s - loss: 0.0756 - sensitivity: 0.9733 - specificity: 0.9867 - acc: 0.9733 - val_loss: 0.1149 - val_sensitivity: 0.9517 - val_specificity: 0.9758 - val_acc: 0.9517\n",
            "Epoch 21/40\n",
            "2400/2400 [==============================] - 554s - loss: 0.0676 - sensitivity: 0.9746 - specificity: 0.9873 - acc: 0.9746 - val_loss: 0.0737 - val_sensitivity: 0.9683 - val_specificity: 0.9842 - val_acc: 0.9683\n",
            "Epoch 22/40\n",
            "2400/2400 [==============================] - 548s - loss: 0.0648 - sensitivity: 0.9754 - specificity: 0.9877 - acc: 0.9754 - val_loss: 0.0922 - val_sensitivity: 0.9600 - val_specificity: 0.9800 - val_acc: 0.9600\n",
            "Epoch 23/40\n",
            "2400/2400 [==============================] - 545s - loss: 0.0653 - sensitivity: 0.9733 - specificity: 0.9867 - acc: 0.9733 - val_loss: 0.0819 - val_sensitivity: 0.9567 - val_specificity: 0.9783 - val_acc: 0.9567\n",
            "Epoch 24/40\n",
            "2400/2400 [==============================] - 548s - loss: 0.0697 - sensitivity: 0.9733 - specificity: 0.9867 - acc: 0.9733 - val_loss: 0.0647 - val_sensitivity: 0.9733 - val_specificity: 0.9867 - val_acc: 0.9733\n",
            "Epoch 25/40\n",
            "2400/2400 [==============================] - 551s - loss: 0.0697 - sensitivity: 0.9708 - specificity: 0.9854 - acc: 0.9708 - val_loss: 0.0811 - val_sensitivity: 0.9633 - val_specificity: 0.9817 - val_acc: 0.9633\n",
            "Epoch 26/40\n",
            "2400/2400 [==============================] - 552s - loss: 0.0529 - sensitivity: 0.9779 - specificity: 0.9890 - acc: 0.9779 - val_loss: 0.0698 - val_sensitivity: 0.9650 - val_specificity: 0.9825 - val_acc: 0.9650\n",
            "Epoch 27/40\n",
            "2400/2400 [==============================] - 551s - loss: 0.0560 - sensitivity: 0.9796 - specificity: 0.9898 - acc: 0.9796 - val_loss: 0.0736 - val_sensitivity: 0.9650 - val_specificity: 0.9825 - val_acc: 0.9650\n",
            "Epoch 28/40\n",
            "2400/2400 [==============================] - 545s - loss: 0.0592 - sensitivity: 0.9775 - specificity: 0.9887 - acc: 0.9775 - val_loss: 0.1484 - val_sensitivity: 0.9500 - val_specificity: 0.9750 - val_acc: 0.9500\n",
            "Epoch 29/40\n",
            "2400/2400 [==============================] - 554s - loss: 0.1235 - sensitivity: 0.9571 - specificity: 0.9785 - acc: 0.9571 - val_loss: 0.0828 - val_sensitivity: 0.9650 - val_specificity: 0.9825 - val_acc: 0.9650\n",
            "Epoch 30/40\n",
            "2400/2400 [==============================] - 552s - loss: 0.0546 - sensitivity: 0.9825 - specificity: 0.9912 - acc: 0.9825 - val_loss: 0.1000 - val_sensitivity: 0.9517 - val_specificity: 0.9758 - val_acc: 0.9517\n",
            "Epoch 31/40\n",
            "2400/2400 [==============================] - 552s - loss: 0.0758 - sensitivity: 0.9704 - specificity: 0.9852 - acc: 0.9704 - val_loss: 0.0574 - val_sensitivity: 0.9767 - val_specificity: 0.9883 - val_acc: 0.9767\n",
            "Epoch 32/40\n",
            "2400/2400 [==============================] - 552s - loss: 0.0410 - sensitivity: 0.9846 - specificity: 0.9923 - acc: 0.9846 - val_loss: 0.0615 - val_sensitivity: 0.9733 - val_specificity: 0.9867 - val_acc: 0.9733\n",
            "Epoch 33/40\n"
          ],
          "name": "stdout"
        },
        {
          "output_type": "stream",
          "text": [
            "2400/2400 [==============================] - 546s - loss: 0.0378 - sensitivity: 0.9854 - specificity: 0.9927 - acc: 0.9854 - val_loss: 0.0554 - val_sensitivity: 0.9800 - val_specificity: 0.9900 - val_acc: 0.9800\n",
            "Epoch 34/40\n",
            "2400/2400 [==============================] - 548s - loss: 0.0352 - sensitivity: 0.9867 - specificity: 0.9933 - acc: 0.9867 - val_loss: 0.0475 - val_sensitivity: 0.9783 - val_specificity: 0.9892 - val_acc: 0.9783\n",
            "Epoch 35/40\n",
            "2400/2400 [==============================] - 551s - loss: 0.0324 - sensitivity: 0.9871 - specificity: 0.9935 - acc: 0.9871 - val_loss: 0.0722 - val_sensitivity: 0.9667 - val_specificity: 0.9833 - val_acc: 0.9667\n",
            "Epoch 36/40\n",
            "2400/2400 [==============================] - 547s - loss: 0.0414 - sensitivity: 0.9842 - specificity: 0.9921 - acc: 0.9842 - val_loss: 0.0714 - val_sensitivity: 0.9667 - val_specificity: 0.9833 - val_acc: 0.9667\n",
            "Epoch 37/40\n",
            "2400/2400 [==============================] - 543s - loss: 0.0889 - sensitivity: 0.9667 - specificity: 0.9833 - acc: 0.9667 - val_loss: 0.0931 - val_sensitivity: 0.9567 - val_specificity: 0.9783 - val_acc: 0.9567\n",
            "Epoch 38/40\n",
            "2400/2400 [==============================] - 551s - loss: 0.0612 - sensitivity: 0.9758 - specificity: 0.9879 - acc: 0.9758 - val_loss: 0.0604 - val_sensitivity: 0.9783 - val_specificity: 0.9892 - val_acc: 0.9783\n",
            "Epoch 39/40\n",
            "2400/2400 [==============================] - 546s - loss: 0.0757 - sensitivity: 0.9754 - specificity: 0.9877 - acc: 0.9754 - val_loss: 0.1017 - val_sensitivity: 0.9633 - val_specificity: 0.9817 - val_acc: 0.9633\n",
            "Epoch 40/40\n",
            "2400/2400 [==============================] - 489s - loss: 0.0558 - sensitivity: 0.9779 - specificity: 0.9892 - acc: 0.9783 - val_loss: 0.0602 - val_sensitivity: 0.9767 - val_specificity: 0.9883 - val_acc: 0.9767\n"
          ],
          "name": "stdout"
        }
      ]
    },
    {
      "cell_type": "markdown",
      "metadata": {
        "id": "NjD8BLFElex0",
        "colab_type": "text"
      },
      "source": [
        "# **Plot Sensitivity versus epochs**"
      ]
    },
    {
      "cell_type": "code",
      "metadata": {
        "id": "cEGRGsqcS-1j",
        "colab_type": "code",
        "outputId": "32de9a2a-0618-4761-d74b-546a7b53fea4",
        "colab": {}
      },
      "source": [
        "# Plot the sensitivity along with epochs\n",
        "plt.plot(history.history['sensitivity'], 'g--')\n",
        "plt.title('Model Sensitivity')\n",
        "plt.ylabel('Sensitivity')\n",
        "plt.xlabel('Epoch #')\n",
        "plt.show()"
      ],
      "execution_count": 0,
      "outputs": [
        {
          "output_type": "display_data",
          "data": {
            "image/png": "[encoded data removed]",
            "text/plain": [
              "<matplotlib.figure.Figure at 0x7f06105d45c0>"
            ]
          },
          "metadata": {
            "tags": []
          }
        }
      ]
    },
    {
      "cell_type": "markdown",
      "metadata": {
        "id": "9w5pns2NlpN9",
        "colab_type": "text"
      },
      "source": [
        "# **Plot specificity versus epochs**"
      ]
    },
    {
      "cell_type": "code",
      "metadata": {
        "id": "raL_JkFHS-1n",
        "colab_type": "code",
        "outputId": "c1436589-b605-4863-babe-3c7a205f802b",
        "colab": {}
      },
      "source": [
        "# Plot the specificity along with epochs\n",
        "plt.plot(history.history['specificity'], 'b--')\n",
        "plt.title('Model Specificity')\n",
        "plt.ylabel('Specificity')\n",
        "plt.xlabel('Epoch #')\n",
        "plt.show()"
      ],
      "execution_count": 0,
      "outputs": [
        {
          "output_type": "display_data",
          "data": {
            "image/png": "[encoded data removed]",
            "text/plain": [
              "<matplotlib.figure.Figure at 0x7f060861e1d0>"
            ]
          },
          "metadata": {
            "tags": []
          }
        }
      ]
    },
    {
      "cell_type": "markdown",
      "metadata": {
        "id": "umOf8qmjlwLr",
        "colab_type": "text"
      },
      "source": [
        "# **Plot classification accuracy versus epochs**"
      ]
    },
    {
      "cell_type": "code",
      "metadata": {
        "id": "tXYuhP1IS-1r",
        "colab_type": "code",
        "outputId": "f9e6c16b-b880-4f84-99fb-8758865c1d2f",
        "colab": {}
      },
      "source": [
        "# Plot the classification accuracy along with epochs\n",
        "plt.plot(history.history['acc'], 'r--')\n",
        "plt.title('Model Accuracy')\n",
        "plt.ylabel('Accuracy')\n",
        "plt.xlabel('Epoch #')\n",
        "plt.show()"
      ],
      "execution_count": 0,
      "outputs": [
        {
          "output_type": "display_data",
          "data": {
            "image/png": "[encoded data removed]",
            "text/plain": [
              "<matplotlib.figure.Figure at 0x7f0608600400>"
            ]
          },
          "metadata": {
            "tags": []
          }
        }
      ]
    },
    {
      "cell_type": "markdown",
      "metadata": {
        "id": "44nKOAEvl3mr",
        "colab_type": "text"
      },
      "source": [
        "# **Evaluate the classification accuracy**"
      ]
    },
    {
      "cell_type": "code",
      "metadata": {
        "id": "xxGUblUgS-1v",
        "colab_type": "code",
        "outputId": "738296e8-f485-4e0f-9339-9d737f9ba643",
        "colab": {}
      },
      "source": [
        "# evaluate the classification accuracy\n",
        "scores = model.evaluate(X_test, y_test, verbose=0)\n",
        "print(\"Sensitivity = %.2f%%\" % (scores[1]*100))\n",
        "print(\"Specificity = %.2f%%\" % (scores[2]*100))\n",
        "print(\"Classification Accuracy = %.2f%%\" % (scores[3]*100))"
      ],
      "execution_count": 0,
      "outputs": [
        {
          "output_type": "stream",
          "text": [
            "Sensitivity = 97.67%\n",
            "Specificity = 98.83%\n",
            "Classification Accuracy = 97.67%\n"
          ],
          "name": "stdout"
        }
      ]
    },
    {
      "cell_type": "code",
      "metadata": {
        "id": "LRgiIPTbS-1z",
        "colab_type": "code",
        "colab": {}
      },
      "source": [
        ""
      ],
      "execution_count": 0,
      "outputs": []
    }
  ]
}