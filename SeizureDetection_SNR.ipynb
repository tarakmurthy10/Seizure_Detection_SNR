{
  "nbformat": 4,
  "nbformat_minor": 0,
  "metadata": {
    "kernelspec": {
      "display_name": "Python 3",
      "language": "python",
      "name": "python3"
    },
    "language_info": {
      "codemirror_mode": {
        "name": "ipython",
        "version": 3
      },
      "file_extension": ".py",
      "mimetype": "text/x-python",
      "name": "python",
      "nbconvert_exporter": "python",
      "pygments_lexer": "ipython3",
      "version": "3.6.1"
    },
    "colab": {
      "name": "SeizureDetection_SNR.ipynb",
      "provenance": [],
      "include_colab_link": true
    }
  },
  "cells": [
    {
      "cell_type": "markdown",
      "metadata": {
        "id": "view-in-github",
        "colab_type": "text"
      },
      "source": [
        "<a href=\"https://colab.research.google.com/github/tarakmurthy10/Seizure_Detection_SNR/blob/master/SeizureDetection_SNR.ipynb\" target=\"_parent\"><img src=\"https://colab.research.google.com/assets/colab-badge.svg\" alt=\"Open In Colab\"/></a>"
      ]
    },
    {
      "cell_type": "markdown",
      "metadata": {
        "id": "r41h4vFXQakV",
        "colab_type": "text"
      },
      "source": [
        "# **Import Libraries and Modules**"
      ]
    },
    {
      "cell_type": "code",
      "metadata": {
        "id": "vgL-X5nv0Wc7",
        "colab_type": "code",
        "colab": {}
      },
      "source": [
        "# Import libraries and modules\n",
        "import numpy as np\n",
        "np.random.seed(123)  # for reproducibility\n",
        "import pandas as pd\n",
        "import seaborn as sns\n",
        "import matplotlib.pyplot as plt\n",
        "\n",
        "import keras\n",
        "from keras.models import Sequential\n",
        "from keras.layers import Dense\n",
        "from keras.layers import LSTM\n",
        "from keras.layers import Dropout\n",
        "from keras.layers import Flatten, TimeDistributed, GlobalMaxPooling1D, GlobalAveragePooling1D\n",
        "from keras.preprocessing import sequence\n",
        "from keras.utils import np_utils\n",
        "from keras import metrics\n",
        "from keras import backend\n",
        "\n",
        "%matplotlib inline"
      ],
      "execution_count": 0,
      "outputs": []
    },
    {
      "cell_type": "markdown",
      "metadata": {
        "id": "r-JPfXoQQx7Z",
        "colab_type": "text"
      },
      "source": [
        "# **Define the performance metrics of rmse, sensitivity, recall, specificity, and precision**"
      ]
    },
    {
      "cell_type": "code",
      "metadata": {
        "id": "x6ZYRw9B0WdK",
        "colab_type": "code",
        "colab": {}
      },
      "source": [
        "# Define the performance metrics of rmse, sensitivity, recall, specificity, and precision\n",
        "\n",
        "def rmse(y_true, y_pred):\n",
        "    return backend.sqrt(backend.mean(backend.square(y_pred - y_true), axis = -1))\n",
        "\n",
        "def sensitivity(y_true, y_pred):  \n",
        "     y_pred_pos = backend.round(backend.clip(y_pred, 0, 1))\n",
        "     y_pred_neg = 1 - y_pred_pos\n",
        "     y_pos = backend.round(backend.clip(y_true, 0, 1))\n",
        "     y_neg = 1 - y_pos\n",
        "     tp = backend.sum(y_pos * y_pred_pos)\n",
        "     tn = backend.sum(y_neg * y_pred_neg)\n",
        "     fp = backend.sum(y_neg * y_pred_pos)\n",
        "     fn = backend.sum(y_pos * y_pred_neg)\n",
        "     sensitivity = tp / (tp + fn)\n",
        "     return sensitivity\n",
        "\n",
        "# Recall is the same as the sensitivity\n",
        "def recall(y_true, y_pred):  \n",
        "     y_pred_pos = backend.round(backend.clip(y_pred, 0, 1))\n",
        "     y_pred_neg = 1 - y_pred_pos\n",
        "     y_pos = backend.round(backend.clip(y_true, 0, 1))\n",
        "     y_neg = 1 - y_pos\n",
        "     tp = backend.sum(y_pos * y_pred_pos)\n",
        "     tn = backend.sum(y_neg * y_pred_neg)\n",
        "     fp = backend.sum(y_neg * y_pred_pos)\n",
        "     fn = backend.sum(y_pos * y_pred_neg)\n",
        "     recall = tp / (tp + fn)\n",
        "     return recall\n",
        "\n",
        "def specificity(y_true, y_pred):  \n",
        "     y_pred_pos = backend.round(backend.clip(y_pred, 0, 1))\n",
        "     y_pred_neg = 1 - y_pred_pos\n",
        "     y_pos = backend.round(backend.clip(y_true, 0, 1))\n",
        "     y_neg = 1 - y_pos\n",
        "     tp = backend.sum(y_pos * y_pred_pos)\n",
        "     tn = backend.sum(y_neg * y_pred_neg)\n",
        "     fp = backend.sum(y_neg * y_pred_pos)\n",
        "     fn = backend.sum(y_pos * y_pred_neg)\n",
        "     specificity = tn / (tn + fp)\n",
        "     return specificity\n",
        "\n",
        "\n",
        "def precision(y_true, y_pred):  \n",
        "     y_pred_pos = backend.round(backend.clip(y_pred, 0, 1))\n",
        "     y_pred_neg = 1 - y_pred_pos\n",
        "     y_pos = backend.round(backend.clip(y_true, 0, 1))\n",
        "     y_neg = 1 - y_pos\n",
        "     tp = backend.sum(y_pos * y_pred_pos)\n",
        "     tn = backend.sum(y_neg * y_pred_neg)\n",
        "     fp = backend.sum(y_neg * y_pred_pos)\n",
        "     fn = backend.sum(y_pos * y_pred_neg)\n",
        "     precision = tp / (tp + fp)\n",
        "     return precision"
      ],
      "execution_count": 0,
      "outputs": []
    },
    {
      "cell_type": "markdown",
      "metadata": {
        "id": "Nx6P0H7jQ6jJ",
        "colab_type": "text"
      },
      "source": [
        "# **Import data** "
      ]
    },
    {
      "cell_type": "code",
      "metadata": {
        "id": "8n-wvdKT0WdK",
        "colab_type": "code",
        "colab": {}
      },
      "source": [
        "#import data \n",
        "data=pd.read_csv('gdrive/My Drive/data1.csv')"
      ],
      "execution_count": 0,
      "outputs": []
    },
    {
      "cell_type": "markdown",
      "metadata": {
        "id": "YFByNEarS3wR",
        "colab_type": "text"
      },
      "source": [
        "# **Counts of each class type**"
      ]
    },
    {
      "cell_type": "code",
      "metadata": {
        "id": "BgKGISG80Wda",
        "colab_type": "code",
        "outputId": "1b86c1b3-1e5e-4f37-ddd0-3c84acb80c70",
        "colab": {}
      },
      "source": [
        "data[\"f4097\"].value_counts()"
      ],
      "execution_count": 0,
      "outputs": [
        {
          "output_type": "execute_result",
          "data": {
            "text/plain": [
              "1    1000\n",
              "2    1000\n",
              "0    1000\n",
              "Name: f4097, dtype: int64"
            ]
          },
          "metadata": {
            "tags": []
          },
          "execution_count": 51
        }
      ]
    },
    {
      "cell_type": "code",
      "metadata": {
        "id": "3VXPrcCY0Wdq",
        "colab_type": "code",
        "colab": {}
      },
      "source": [
        "# shuffle the data\n",
        "data=data.iloc[np.random.permutation(len(data))]"
      ],
      "execution_count": 0,
      "outputs": []
    },
    {
      "cell_type": "code",
      "metadata": {
        "id": "NjnvAby60Wdq",
        "colab_type": "code",
        "colab": {}
      },
      "source": [
        "# reset the data index\n",
        "data=data.reset_index(drop=True)"
      ],
      "execution_count": 0,
      "outputs": []
    },
    {
      "cell_type": "markdown",
      "metadata": {
        "id": "o2cuhCXNTG3F",
        "colab_type": "text"
      },
      "source": [
        "# **Time Steps of LSTM**"
      ]
    },
    {
      "cell_type": "code",
      "metadata": {
        "id": "9c0VsR6e0Wd5",
        "colab_type": "code",
        "outputId": "1c9b10d7-e00e-4d4d-eccf-817cd4736cfe",
        "colab": {}
      },
      "source": [
        "# Time Steps of LSTM\n",
        "data_length = 4096\n",
        "timesteps = 2048\n",
        "data_dim = data_length//timesteps\n",
        "data_dim"
      ],
      "execution_count": 0,
      "outputs": [
        {
          "output_type": "execute_result",
          "data": {
            "text/plain": [
              "2"
            ]
          },
          "metadata": {
            "tags": []
          },
          "execution_count": 54
        }
      ]
    },
    {
      "cell_type": "markdown",
      "metadata": {
        "id": "4SrrLltqTXQ2",
        "colab_type": "text"
      },
      "source": [
        "## **Training data, Test data, Mapping data into arrays**"
      ]
    },
    {
      "cell_type": "code",
      "metadata": {
        "id": "toFKsyBv0Wd5",
        "colab_type": "code",
        "colab": {}
      },
      "source": [
        "# training data\n",
        "X_train=data.loc[0:2399,data.columns != 'f4097']\n",
        "# training data.reshape\n",
        "# X_train=X_train.values.reshape([X_train.shape[0], -1, 1])\n",
        "# X_train=X_train.values.reshape([X_train.shape[0], 64, 64])\n",
        "X_train=X_train.values.reshape([X_train.shape[0], timesteps, data_dim])\n",
        "\n",
        "temp=data['f4097']\n",
        "y_train=temp[0:2400]\n",
        "# map data into arrays\n",
        "y_train=np_utils.to_categorical(y_train, num_classes=3)\n",
        "\n",
        "# test data\n",
        "X_test=data.loc[2400:2999,data.columns != 'f4097']\n",
        "\n",
        "# test data.reshape\n",
        "# X_test = X_test.values.reshape([X_test.shape[0], -1, 1])\n",
        "# X_test = X_test.values.reshape([X_test.shape[0], 64, 64])\n",
        "X_test = X_test.values.reshape([X_test.shape[0], timesteps, data_dim])\n",
        "\n",
        "y_test=temp[2400:3000]\n",
        "# map data into arrays\n",
        "y_test=np_utils.to_categorical(y_test, num_classes=3)\n",
        "\n"
      ],
      "execution_count": 0,
      "outputs": []
    },
    {
      "cell_type": "code",
      "metadata": {
        "id": "V6hy5NCt0WeP",
        "colab_type": "code",
        "outputId": "ff431d6e-f922-47ff-875f-2e2482ccc160",
        "colab": {}
      },
      "source": [
        "X_test.shape"
      ],
      "execution_count": 0,
      "outputs": [
        {
          "output_type": "execute_result",
          "data": {
            "text/plain": [
              "(600, 2048, 2)"
            ]
          },
          "metadata": {
            "tags": []
          },
          "execution_count": 56
        }
      ]
    },
    {
      "cell_type": "markdown",
      "metadata": {
        "id": "6C4yfV5gUiFH",
        "colab_type": "text"
      },
      "source": [
        "### **Create the Model using LSTM layer, TimeDistributed and GlobalAveragePooling**"
      ]
    },
    {
      "cell_type": "code",
      "metadata": {
        "id": "U4RPLqaR0WeX",
        "colab_type": "code",
        "outputId": "bc42b32d-f2bb-44ae-f551-04803bfa394d",
        "colab": {}
      },
      "source": [
        "# create the model\n",
        "model = Sequential()\n",
        "# model.add(LSTM(100, input_shape= (4096, 1)))\n",
        "# model.add(LSTM(100, input_shape= (64, 64)))\n",
        "# model.add(Dropout(0.1, input_shape= (timesteps, data_dim)))\n",
        "# model.add(LSTM(100, return_sequences = True))\n",
        "\n",
        "model.add(LSTM(100, input_shape= (timesteps, data_dim), return_sequences = True))\n",
        "# model.add(Dropout(0.1))\n",
        "model.add(TimeDistributed(Dense(50)))\n",
        "# model.add(GlobalMaxPooling1D())\n",
        "model.add(GlobalAveragePooling1D())\n",
        "# model.add(Flatten())\n",
        "model.add(Dense(3, activation='softmax'))\n",
        "model.compile(loss='categorical_crossentropy', optimizer='adam', metrics=[sensitivity, specificity, 'accuracy'])\n",
        "print(model.summary())\n",
        "history = model.fit(X_train, y_train, validation_data=(X_test, y_test), batch_size=64, epochs=40)"
      ],
      "execution_count": 0,
      "outputs": [
        {
          "output_type": "stream",
          "text": [
            "_________________________________________________________________\n",
            "Layer (type)                 Output Shape              Param #   \n",
            "=================================================================\n",
            "lstm_8 (LSTM)                (None, 2048, 100)         41200     \n",
            "_________________________________________________________________\n",
            "time_distributed_8 (TimeDist (None, 2048, 50)          5050      \n",
            "_________________________________________________________________\n",
            "global_average_pooling1d_8 ( (None, 50)                0         \n",
            "_________________________________________________________________\n",
            "dense_16 (Dense)             (None, 3)                 153       \n",
            "=================================================================\n",
            "Total params: 46,403\n",
            "Trainable params: 46,403\n",
            "Non-trainable params: 0\n",
            "_________________________________________________________________\n",
            "None\n",
            "Train on 2400 samples, validate on 600 samples\n",
            "Epoch 1/40\n",
            "2400/2400 [==============================] - 300s - loss: 0.6006 - sensitivity: 0.6004 - specificity: 0.9510 - acc: 0.7583 - val_loss: 0.3546 - val_sensitivity: 0.8400 - val_specificity: 0.9433 - val_acc: 0.8667\n",
            "Epoch 2/40\n",
            "2400/2400 [==============================] - 557s - loss: 0.2486 - sensitivity: 0.9050 - specificity: 0.9617 - acc: 0.9121 - val_loss: 0.1500 - val_sensitivity: 0.9483 - val_specificity: 0.9817 - val_acc: 0.9500\n",
            "Epoch 3/40\n",
            "2400/2400 [==============================] - 551s - loss: 0.3116 - sensitivity: 0.8754 - specificity: 0.9442 - acc: 0.8846 - val_loss: 0.1602 - val_sensitivity: 0.9417 - val_specificity: 0.9800 - val_acc: 0.9500\n",
            "Epoch 4/40\n",
            "2400/2400 [==============================] - 552s - loss: 0.1228 - sensitivity: 0.9621 - specificity: 0.9852 - acc: 0.9654 - val_loss: 0.0913 - val_sensitivity: 0.9733 - val_specificity: 0.9917 - val_acc: 0.9833\n",
            "Epoch 5/40\n",
            "2400/2400 [==============================] - 549s - loss: 0.0761 - sensitivity: 0.9779 - specificity: 0.9908 - acc: 0.9800 - val_loss: 0.0588 - val_sensitivity: 0.9900 - val_specificity: 0.9950 - val_acc: 0.9900\n",
            "Epoch 6/40\n",
            "2400/2400 [==============================] - 551s - loss: 0.0570 - sensitivity: 0.9846 - specificity: 0.9923 - acc: 0.9846 - val_loss: 0.0440 - val_sensitivity: 0.9900 - val_specificity: 0.9950 - val_acc: 0.9900\n",
            "Epoch 7/40\n",
            "2400/2400 [==============================] - 551s - loss: 0.0508 - sensitivity: 0.9850 - specificity: 0.9925 - acc: 0.9850 - val_loss: 0.0393 - val_sensitivity: 0.9917 - val_specificity: 0.9958 - val_acc: 0.9917\n",
            "Epoch 8/40\n",
            "2400/2400 [==============================] - 547s - loss: 0.0399 - sensitivity: 0.9871 - specificity: 0.9935 - acc: 0.9871 - val_loss: 0.0324 - val_sensitivity: 0.9933 - val_specificity: 0.9967 - val_acc: 0.9933\n",
            "Epoch 9/40\n",
            "2400/2400 [==============================] - 555s - loss: 0.0389 - sensitivity: 0.9879 - specificity: 0.9940 - acc: 0.9879 - val_loss: 0.0289 - val_sensitivity: 0.9900 - val_specificity: 0.9950 - val_acc: 0.9900\n",
            "Epoch 10/40\n",
            "2400/2400 [==============================] - 550s - loss: 0.0306 - sensitivity: 0.9925 - specificity: 0.9963 - acc: 0.9925 - val_loss: 0.0173 - val_sensitivity: 0.9983 - val_specificity: 0.9992 - val_acc: 0.9983\n",
            "Epoch 11/40\n",
            "2400/2400 [==============================] - 554s - loss: 0.0292 - sensitivity: 0.9879 - specificity: 0.9940 - acc: 0.9879 - val_loss: 0.0173 - val_sensitivity: 0.9950 - val_specificity: 0.9975 - val_acc: 0.9950\n",
            "Epoch 12/40\n",
            "2400/2400 [==============================] - 549s - loss: 0.0216 - sensitivity: 0.9933 - specificity: 0.9967 - acc: 0.9933 - val_loss: 0.0115 - val_sensitivity: 0.9983 - val_specificity: 0.9992 - val_acc: 0.9983\n",
            "Epoch 13/40\n",
            "2400/2400 [==============================] - 548s - loss: 0.0502 - sensitivity: 0.9825 - specificity: 0.9915 - acc: 0.9829 - val_loss: 0.0497 - val_sensitivity: 0.9817 - val_specificity: 0.9908 - val_acc: 0.9817\n",
            "Epoch 14/40\n",
            "2400/2400 [==============================] - 548s - loss: 0.1015 - sensitivity: 0.9771 - specificity: 0.9885 - acc: 0.9771 - val_loss: 0.0366 - val_sensitivity: 0.9917 - val_specificity: 0.9958 - val_acc: 0.9917\n",
            "Epoch 15/40\n",
            "2400/2400 [==============================] - 550s - loss: 0.0330 - sensitivity: 0.9892 - specificity: 0.9946 - acc: 0.9892 - val_loss: 0.0409 - val_sensitivity: 0.9933 - val_specificity: 0.9967 - val_acc: 0.9933\n",
            "Epoch 16/40\n",
            "2400/2400 [==============================] - 552s - loss: 0.0256 - sensitivity: 0.9938 - specificity: 0.9969 - acc: 0.9938 - val_loss: 0.0081 - val_sensitivity: 1.0000 - val_specificity: 1.0000 - val_acc: 1.0000\n",
            "Epoch 17/40\n",
            "2400/2400 [==============================] - 552s - loss: 0.0103 - sensitivity: 0.9975 - specificity: 0.9988 - acc: 0.9975 - val_loss: 0.0297 - val_sensitivity: 0.9850 - val_specificity: 0.9925 - val_acc: 0.9850\n",
            "Epoch 18/40\n",
            "2400/2400 [==============================] - 551s - loss: 0.0143 - sensitivity: 0.9958 - specificity: 0.9979 - acc: 0.9958 - val_loss: 0.0069 - val_sensitivity: 1.0000 - val_specificity: 1.0000 - val_acc: 1.0000\n",
            "Epoch 19/40\n",
            "2400/2400 [==============================] - 552s - loss: 0.0072 - sensitivity: 0.9979 - specificity: 0.9990 - acc: 0.9979 - val_loss: 0.0034 - val_sensitivity: 1.0000 - val_specificity: 1.0000 - val_acc: 1.0000\n",
            "Epoch 20/40\n",
            "2400/2400 [==============================] - 551s - loss: 0.0087 - sensitivity: 0.9975 - specificity: 0.9988 - acc: 0.9975 - val_loss: 0.0061 - val_sensitivity: 1.0000 - val_specificity: 1.0000 - val_acc: 1.0000\n",
            "Epoch 21/40\n",
            "2400/2400 [==============================] - 543s - loss: 0.0098 - sensitivity: 0.9979 - specificity: 0.9990 - acc: 0.9979 - val_loss: 0.0071 - val_sensitivity: 0.9983 - val_specificity: 0.9992 - val_acc: 0.9983\n",
            "Epoch 22/40\n",
            "2400/2400 [==============================] - 551s - loss: 0.0042 - sensitivity: 1.0000 - specificity: 1.0000 - acc: 1.0000 - val_loss: 0.0042 - val_sensitivity: 1.0000 - val_specificity: 1.0000 - val_acc: 1.0000\n",
            "Epoch 23/40\n",
            "2400/2400 [==============================] - 549s - loss: 0.0030 - sensitivity: 0.9996 - specificity: 0.9998 - acc: 0.9996 - val_loss: 0.0024 - val_sensitivity: 1.0000 - val_specificity: 1.0000 - val_acc: 1.0000\n",
            "Epoch 24/40\n",
            "2400/2400 [==============================] - 545s - loss: 0.0025 - sensitivity: 0.9996 - specificity: 0.9998 - acc: 0.9996 - val_loss: 0.0022 - val_sensitivity: 1.0000 - val_specificity: 1.0000 - val_acc: 1.0000\n",
            "Epoch 25/40\n",
            "2400/2400 [==============================] - 552s - loss: 0.0025 - sensitivity: 0.9996 - specificity: 0.9998 - acc: 0.9996 - val_loss: 0.0029 - val_sensitivity: 0.9983 - val_specificity: 0.9992 - val_acc: 0.9983\n",
            "Epoch 26/40\n",
            "2400/2400 [==============================] - 554s - loss: 0.0019 - sensitivity: 0.9996 - specificity: 0.9998 - acc: 0.9996 - val_loss: 0.0023 - val_sensitivity: 0.9983 - val_specificity: 0.9992 - val_acc: 0.9983\n",
            "Epoch 27/40\n",
            "2400/2400 [==============================] - 552s - loss: 0.0019 - sensitivity: 0.9996 - specificity: 0.9998 - acc: 0.9996 - val_loss: 0.0032 - val_sensitivity: 0.9983 - val_specificity: 0.9992 - val_acc: 0.9983\n",
            "Epoch 28/40\n",
            "2400/2400 [==============================] - 546s - loss: 0.0012 - sensitivity: 1.0000 - specificity: 1.0000 - acc: 1.0000 - val_loss: 0.0020 - val_sensitivity: 0.9983 - val_specificity: 0.9992 - val_acc: 0.9983\n",
            "Epoch 29/40\n",
            "2400/2400 [==============================] - 546s - loss: 6.0261e-04 - sensitivity: 1.0000 - specificity: 1.0000 - acc: 1.0000 - val_loss: 0.0016 - val_sensitivity: 1.0000 - val_specificity: 1.0000 - val_acc: 1.0000\n",
            "Epoch 30/40\n",
            "2400/2400 [==============================] - 551s - loss: 4.6534e-04 - sensitivity: 1.0000 - specificity: 1.0000 - acc: 1.0000 - val_loss: 0.0012 - val_sensitivity: 1.0000 - val_specificity: 1.0000 - val_acc: 1.0000\n",
            "Epoch 31/40\n",
            "2400/2400 [==============================] - 549s - loss: 0.0040 - sensitivity: 0.9996 - specificity: 0.9998 - acc: 0.9996 - val_loss: 0.0019 - val_sensitivity: 1.0000 - val_specificity: 1.0000 - val_acc: 1.0000\n",
            "Epoch 32/40\n",
            "2400/2400 [==============================] - 553s - loss: 0.0131 - sensitivity: 0.9971 - specificity: 0.9985 - acc: 0.9971 - val_loss: 0.0214 - val_sensitivity: 0.9933 - val_specificity: 0.9967 - val_acc: 0.9933\n",
            "Epoch 33/40\n"
          ],
          "name": "stdout"
        },
        {
          "output_type": "stream",
          "text": [
            "2400/2400 [==============================] - 556s - loss: 0.0263 - sensitivity: 0.9896 - specificity: 0.9948 - acc: 0.9896 - val_loss: 0.0228 - val_sensitivity: 0.9933 - val_specificity: 0.9967 - val_acc: 0.9933\n",
            "Epoch 34/40\n",
            "2400/2400 [==============================] - 549s - loss: 0.0366 - sensitivity: 0.9900 - specificity: 0.9950 - acc: 0.9900 - val_loss: 0.0254 - val_sensitivity: 0.9933 - val_specificity: 0.9967 - val_acc: 0.9933\n",
            "Epoch 35/40\n",
            "2400/2400 [==============================] - 550s - loss: 0.0242 - sensitivity: 0.9925 - specificity: 0.9963 - acc: 0.9925 - val_loss: 0.0117 - val_sensitivity: 0.9967 - val_specificity: 0.9983 - val_acc: 0.9967\n",
            "Epoch 36/40\n",
            "2400/2400 [==============================] - 547s - loss: 0.0071 - sensitivity: 0.9992 - specificity: 0.9996 - acc: 0.9992 - val_loss: 0.0059 - val_sensitivity: 0.9983 - val_specificity: 0.9992 - val_acc: 0.9983\n",
            "Epoch 37/40\n",
            "2400/2400 [==============================] - 547s - loss: 0.0060 - sensitivity: 0.9988 - specificity: 0.9994 - acc: 0.9988 - val_loss: 0.0026 - val_sensitivity: 1.0000 - val_specificity: 1.0000 - val_acc: 1.0000\n",
            "Epoch 38/40\n",
            "2400/2400 [==============================] - 551s - loss: 0.0022 - sensitivity: 1.0000 - specificity: 1.0000 - acc: 1.0000 - val_loss: 0.0020 - val_sensitivity: 1.0000 - val_specificity: 1.0000 - val_acc: 1.0000\n",
            "Epoch 39/40\n",
            "2400/2400 [==============================] - 548s - loss: 0.0013 - sensitivity: 1.0000 - specificity: 1.0000 - acc: 1.0000 - val_loss: 0.0015 - val_sensitivity: 1.0000 - val_specificity: 1.0000 - val_acc: 1.0000\n",
            "Epoch 40/40\n",
            "2400/2400 [==============================] - 545s - loss: 9.5306e-04 - sensitivity: 1.0000 - specificity: 1.0000 - acc: 1.0000 - val_loss: 0.0015 - val_sensitivity: 1.0000 - val_specificity: 1.0000 - val_acc: 1.0000\n"
          ],
          "name": "stdout"
        }
      ]
    },
    {
      "cell_type": "markdown",
      "metadata": {
        "id": "1wgIr1VFV0YF",
        "colab_type": "text"
      },
      "source": [
        "# **Plot the sensitivity along with epochs**"
      ]
    },
    {
      "cell_type": "code",
      "metadata": {
        "id": "6ZSEfsKf0Weg",
        "colab_type": "code",
        "outputId": "978abc55-a7c0-44df-a59a-e984719aa762",
        "colab": {}
      },
      "source": [
        "# Plot the sensitivity along with epochs\n",
        "plt.plot(history.history['sensitivity'], 'g--')\n",
        "plt.title('Model Sensitivity')\n",
        "plt.ylabel('Sensitivity')\n",
        "plt.xlabel('Epoch #')\n",
        "plt.show()"
      ],
      "execution_count": 0,
      "outputs": [
        {
          "output_type": "display_data",
          "data": {
            "image/png": "[encoded data removed]",
            "text/plain": [
              "<matplotlib.figure.Figure at 0x7f5b0af62550>"
            ]
          },
          "metadata": {
            "tags": []
          }
        }
      ]
    },
    {
      "cell_type": "markdown",
      "metadata": {
        "id": "gFOFVg4AWBjk",
        "colab_type": "text"
      },
      "source": [
        "# **Plot the specificity along with epochs**"
      ]
    },
    {
      "cell_type": "code",
      "metadata": {
        "id": "INOsqnfx0Wei",
        "colab_type": "code",
        "outputId": "5f82d5b7-07f1-4a65-c3fb-a66b46a2367b",
        "colab": {}
      },
      "source": [
        "# Plot the specificity along with epochs\n",
        "plt.plot(history.history['specificity'], 'b--')\n",
        "plt.plot(history.history['val_loss'])\n",
        "plt.title('Model Specificity')\n",
        "plt.ylabel('Specificity')\n",
        "plt.xlabel('Epoch #')\n",
        "plt.legend(['train', 'test'], loc='upper left')\n",
        "plt.show()"
      ],
      "execution_count": 0,
      "outputs": [
        {
          "output_type": "display_data",
          "data": {
            "image/png": "[encoded data removed]",
            "text/plain": [
              "<matplotlib.figure.Figure at 0x7f5b0ae9d160>"
            ]
          },
          "metadata": {
            "tags": []
          }
        }
      ]
    },
    {
      "cell_type": "markdown",
      "metadata": {
        "id": "JViuGqt3WG7k",
        "colab_type": "text"
      },
      "source": [
        "# **Plot the classification accuracy along with epochs**"
      ]
    },
    {
      "cell_type": "code",
      "metadata": {
        "id": "loj4OYVy0Wey",
        "colab_type": "code",
        "outputId": "f2d44d50-fc79-412c-c6d7-495ad60b7302",
        "colab": {}
      },
      "source": [
        "# Plot the classification accuracy along with epochs\n",
        "plt.plot(history.history['acc'], 'r--')\n",
        "plt.title('Model Accuracy')\n",
        "plt.ylabel('Accuracy')\n",
        "plt.xlabel('Epoch #')\n",
        "plt.show()"
      ],
      "execution_count": 0,
      "outputs": [
        {
          "output_type": "display_data",
          "data": {
            "image/png": "[encoded data removed]",
            "text/plain": [
              "<matplotlib.figure.Figure at 0x7f5b0ad429e8>"
            ]
          },
          "metadata": {
            "tags": []
          }
        }
      ]
    },
    {
      "cell_type": "markdown",
      "metadata": {
        "id": "iItK2SbWXV2K",
        "colab_type": "text"
      },
      "source": [
        "# **Evaluate the classification accuracy**"
      ]
    },
    {
      "cell_type": "code",
      "metadata": {
        "id": "PtC92P2b0Wey",
        "colab_type": "code",
        "outputId": "699ada81-0893-444a-cf6b-413f6ed96054",
        "colab": {}
      },
      "source": [
        "# evaluate the classification accuracy\n",
        "scores = model.evaluate(X_test, y_test, verbose=0)\n",
        "print(\"Sensitivity = %.2f%%\" % (scores[1]*100))\n",
        "print(\"Specificity = %.2f%%\" % (scores[2]*100))\n",
        "print(\"Classification Accuracy = %.2f%%\" % (scores[3]*100))"
      ],
      "execution_count": 0,
      "outputs": [
        {
          "output_type": "stream",
          "text": [
            "Sensitivity = 100.00%\n",
            "Specificity = 100.00%\n",
            "Classification Accuracy = 100.00%\n"
          ],
          "name": "stdout"
        }
      ]
    },
    {
      "cell_type": "code",
      "metadata": {
        "id": "ivMMM13E0WfB",
        "colab_type": "code",
        "colab": {}
      },
      "source": [
        ""
      ],
      "execution_count": 0,
      "outputs": []
    }
  ]
}